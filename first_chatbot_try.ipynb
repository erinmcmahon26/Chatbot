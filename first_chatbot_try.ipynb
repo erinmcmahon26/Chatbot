{
 "cells": [
  {
   "cell_type": "code",
   "execution_count": 5,
   "id": "7908e9be",
   "metadata": {},
   "outputs": [],
   "source": [
    "import pandas as pd\n",
    "import numpy as np\n",
    "import json\n",
    "import random\n",
    "import re\n",
    "import string\n",
    "\n",
    "from sklearn.feature_extraction.text import TfidfVectorizer\n",
    "from sklearn.metrics.pairwise import cosine_similarity\n",
    "\n",
    "import nltk\n",
    "from nltk.stem import WordNetLemmatizer\n",
    "from nltk.corpus import stopwords\n"
   ]
  },
  {
   "cell_type": "code",
   "execution_count": 6,
   "id": "9ccf38cb",
   "metadata": {},
   "outputs": [
    {
     "data": {
      "text/plain": [
       "True"
      ]
     },
     "execution_count": 6,
     "metadata": {},
     "output_type": "execute_result"
    }
   ],
   "source": [
    "nltk.download('stopwords',quiet=True)\n",
    "nltk.download('wordnet',quiet=True)\n",
    "nltk.download('punkt',quiet=True)\n",
    "nltk.download('omw-1.4',quiet=True)"
   ]
  },
  {
   "cell_type": "code",
   "execution_count": 7,
   "id": "ac3675b4",
   "metadata": {},
   "outputs": [],
   "source": [
    "f = open('zelda.json','r')"
   ]
  },
  {
   "cell_type": "code",
   "execution_count": 8,
   "id": "92b4a81c",
   "metadata": {},
   "outputs": [],
   "source": [
    "raw=f.read()"
   ]
  },
  {
   "cell_type": "code",
   "execution_count": 9,
   "id": "8e6c1284",
   "metadata": {},
   "outputs": [],
   "source": [
    "raw = raw.lower()"
   ]
  },
  {
   "cell_type": "code",
   "execution_count": 10,
   "id": "8e5f23f7",
   "metadata": {},
   "outputs": [],
   "source": [
    "sent_tokens = nltk.sent_tokenize(raw)"
   ]
  },
  {
   "cell_type": "code",
   "execution_count": 11,
   "id": "040c2c88",
   "metadata": {},
   "outputs": [],
   "source": [
    "word_tokens = nltk.word_tokenize(raw)"
   ]
  },
  {
   "cell_type": "code",
   "execution_count": 12,
   "id": "5cb52d33",
   "metadata": {},
   "outputs": [],
   "source": [
    "df = pd.read_json('zelda.json', orient = 'index')"
   ]
  },
  {
   "cell_type": "code",
   "execution_count": 13,
   "id": "26a2991a",
   "metadata": {},
   "outputs": [
    {
     "data": {
      "text/html": [
       "<div>\n",
       "<style scoped>\n",
       "    .dataframe tbody tr th:only-of-type {\n",
       "        vertical-align: middle;\n",
       "    }\n",
       "\n",
       "    .dataframe tbody tr th {\n",
       "        vertical-align: top;\n",
       "    }\n",
       "\n",
       "    .dataframe thead th {\n",
       "        text-align: right;\n",
       "    }\n",
       "</style>\n",
       "<table border=\"1\" class=\"dataframe\">\n",
       "  <thead>\n",
       "    <tr style=\"text-align: right;\">\n",
       "      <th></th>\n",
       "      <th>0</th>\n",
       "    </tr>\n",
       "  </thead>\n",
       "  <tbody>\n",
       "    <tr>\n",
       "      <th>The Legend of Zelda: Breath of the Wild</th>\n",
       "      <td>The Legend of Zelda: Breath of the Wild is a 2...</td>\n",
       "    </tr>\n",
       "    <tr>\n",
       "      <th>Untitled The Legend of Zelda: Breath of the Wild sequel</th>\n",
       "      <td>An untitled sequel to the 2017 action-adventur...</td>\n",
       "    </tr>\n",
       "    <tr>\n",
       "      <th>The Legend of Zelda</th>\n",
       "      <td>The Legend of Zelda is a high fantasy action-a...</td>\n",
       "    </tr>\n",
       "    <tr>\n",
       "      <th>Universe of The Legend of Zelda</th>\n",
       "      <td>The Legend of Zelda is a video game franchise ...</td>\n",
       "    </tr>\n",
       "    <tr>\n",
       "      <th>Hyrule Warriors: Age of Calamity</th>\n",
       "      <td>Hyrule Warriors: Age of Calamity is a hack-and...</td>\n",
       "    </tr>\n",
       "  </tbody>\n",
       "</table>\n",
       "</div>"
      ],
      "text/plain": [
       "                                                                                                    0\n",
       "The Legend of Zelda: Breath of the Wild             The Legend of Zelda: Breath of the Wild is a 2...\n",
       "Untitled The Legend of Zelda: Breath of the Wil...  An untitled sequel to the 2017 action-adventur...\n",
       "The Legend of Zelda                                 The Legend of Zelda is a high fantasy action-a...\n",
       "Universe of The Legend of Zelda                     The Legend of Zelda is a video game franchise ...\n",
       "Hyrule Warriors: Age of Calamity                    Hyrule Warriors: Age of Calamity is a hack-and..."
      ]
     },
     "execution_count": 13,
     "metadata": {},
     "output_type": "execute_result"
    }
   ],
   "source": [
    "df.head()"
   ]
  },
  {
   "cell_type": "code",
   "execution_count": 14,
   "id": "606a6bbe",
   "metadata": {},
   "outputs": [],
   "source": [
    "df.reset_index(inplace = True)"
   ]
  },
  {
   "cell_type": "code",
   "execution_count": 15,
   "id": "37eae1db",
   "metadata": {},
   "outputs": [],
   "source": [
    "df.rename(columns = {'index':'doc_title', 0:'doc_text'}, inplace = True)"
   ]
  },
  {
   "cell_type": "code",
   "execution_count": 16,
   "id": "fe647900",
   "metadata": {},
   "outputs": [
    {
     "name": "stdout",
     "output_type": "stream",
     "text": [
      "<class 'pandas.core.frame.DataFrame'>\n",
      "RangeIndex: 30 entries, 0 to 29\n",
      "Data columns (total 2 columns):\n",
      " #   Column     Non-Null Count  Dtype \n",
      "---  ------     --------------  ----- \n",
      " 0   doc_title  30 non-null     object\n",
      " 1   doc_text   30 non-null     object\n",
      "dtypes: object(2)\n",
      "memory usage: 608.0+ bytes\n"
     ]
    }
   ],
   "source": [
    "df.info()"
   ]
  },
  {
   "cell_type": "code",
   "execution_count": 17,
   "id": "ce49e7af",
   "metadata": {},
   "outputs": [
    {
     "data": {
      "text/plain": [
       "0"
      ]
     },
     "execution_count": 17,
     "metadata": {},
     "output_type": "execute_result"
    }
   ],
   "source": [
    "df['doc_title'].duplicated().sum()"
   ]
  },
  {
   "cell_type": "code",
   "execution_count": 18,
   "id": "632d54d5",
   "metadata": {},
   "outputs": [
    {
     "data": {
      "text/plain": [
       "0"
      ]
     },
     "execution_count": 18,
     "metadata": {},
     "output_type": "execute_result"
    }
   ],
   "source": [
    "df['doc_text'].duplicated().sum()"
   ]
  },
  {
   "cell_type": "code",
   "execution_count": 19,
   "id": "5ca62d54",
   "metadata": {},
   "outputs": [
    {
     "data": {
      "text/plain": [
       "0               The Legend of Zelda: Breath of the Wild\n",
       "1     Untitled The Legend of Zelda: Breath of the Wi...\n",
       "2                                   The Legend of Zelda\n",
       "3                       Universe of The Legend of Zelda\n",
       "4                      Hyrule Warriors: Age of Calamity\n",
       "5                                                Urbosa\n",
       "6                       List of Game of the Year awards\n",
       "7                                        Princess Zelda\n",
       "8                                                 Mipha\n",
       "9                            Link (The Legend of Zelda)\n",
       "10                                         Prince Sidon\n",
       "11                                      Nintendo Switch\n",
       "12                                    Horizon Zero Dawn\n",
       "13                                       Genshin Impact\n",
       "14                                 The Game Awards 2017\n",
       "15                                 Hidemaro Fujibayashi\n",
       "16                                      Sonic Frontiers\n",
       "17                                                Ganon\n",
       "18                                                 Cemu\n",
       "19                                         Master Sword\n",
       "20                                           Open world\n",
       "21                    List of The Legend of Zelda media\n",
       "22                    Characters of The Legend of Zelda\n",
       "23                                    Elizabeth Maxwell\n",
       "24                              Pokémon Legends: Arceus\n",
       "25    The Legend of Zelda: Breath of the Wild – Crea...\n",
       "26                                                 Impa\n",
       "27                                  Patricia Summersett\n",
       "28                                          Eiji Aonuma\n",
       "29                   The Legend of Zelda: Skyward Sword\n",
       "Name: doc_title, dtype: object"
      ]
     },
     "execution_count": 19,
     "metadata": {},
     "output_type": "execute_result"
    }
   ],
   "source": [
    "df['doc_title']"
   ]
  },
  {
   "cell_type": "markdown",
   "id": "011c3054",
   "metadata": {},
   "source": [
    "Here we see there are a few docs that don't actually talk about Zelda: Breath of the Wild, so I'm going to drop those real quick"
   ]
  },
  {
   "cell_type": "code",
   "execution_count": 20,
   "id": "9f9c3263",
   "metadata": {},
   "outputs": [
    {
     "data": {
      "text/html": [
       "<div>\n",
       "<style scoped>\n",
       "    .dataframe tbody tr th:only-of-type {\n",
       "        vertical-align: middle;\n",
       "    }\n",
       "\n",
       "    .dataframe tbody tr th {\n",
       "        vertical-align: top;\n",
       "    }\n",
       "\n",
       "    .dataframe thead th {\n",
       "        text-align: right;\n",
       "    }\n",
       "</style>\n",
       "<table border=\"1\" class=\"dataframe\">\n",
       "  <thead>\n",
       "    <tr style=\"text-align: right;\">\n",
       "      <th></th>\n",
       "      <th>doc_title</th>\n",
       "      <th>doc_text</th>\n",
       "    </tr>\n",
       "  </thead>\n",
       "  <tbody>\n",
       "    <tr>\n",
       "      <th>0</th>\n",
       "      <td>The Legend of Zelda: Breath of the Wild</td>\n",
       "      <td>The Legend of Zelda: Breath of the Wild is a 2...</td>\n",
       "    </tr>\n",
       "    <tr>\n",
       "      <th>1</th>\n",
       "      <td>Untitled The Legend of Zelda: Breath of the Wi...</td>\n",
       "      <td>An untitled sequel to the 2017 action-adventur...</td>\n",
       "    </tr>\n",
       "    <tr>\n",
       "      <th>2</th>\n",
       "      <td>The Legend of Zelda</td>\n",
       "      <td>The Legend of Zelda is a high fantasy action-a...</td>\n",
       "    </tr>\n",
       "    <tr>\n",
       "      <th>3</th>\n",
       "      <td>Universe of The Legend of Zelda</td>\n",
       "      <td>The Legend of Zelda is a video game franchise ...</td>\n",
       "    </tr>\n",
       "    <tr>\n",
       "      <th>4</th>\n",
       "      <td>Hyrule Warriors: Age of Calamity</td>\n",
       "      <td>Hyrule Warriors: Age of Calamity is a hack-and...</td>\n",
       "    </tr>\n",
       "    <tr>\n",
       "      <th>5</th>\n",
       "      <td>Urbosa</td>\n",
       "      <td>Urbosa is a fictional character from Nintendo'...</td>\n",
       "    </tr>\n",
       "    <tr>\n",
       "      <th>6</th>\n",
       "      <td>List of Game of the Year awards</td>\n",
       "      <td>Game of the Year (GotY) is an award given by v...</td>\n",
       "    </tr>\n",
       "    <tr>\n",
       "      <th>7</th>\n",
       "      <td>Princess Zelda</td>\n",
       "      <td>Princess Zelda is the titular character in Nin...</td>\n",
       "    </tr>\n",
       "    <tr>\n",
       "      <th>8</th>\n",
       "      <td>Mipha</td>\n",
       "      <td>Mipha is a fictional character in Nintendo's T...</td>\n",
       "    </tr>\n",
       "    <tr>\n",
       "      <th>9</th>\n",
       "      <td>Link (The Legend of Zelda)</td>\n",
       "      <td>Link is a fictional character and the protagon...</td>\n",
       "    </tr>\n",
       "    <tr>\n",
       "      <th>10</th>\n",
       "      <td>Prince Sidon</td>\n",
       "      <td>Prince Sidon ( SY-don) is a fictional characte...</td>\n",
       "    </tr>\n",
       "    <tr>\n",
       "      <th>11</th>\n",
       "      <td>Nintendo Switch</td>\n",
       "      <td>The Nintendo Switch is a video game console de...</td>\n",
       "    </tr>\n",
       "    <tr>\n",
       "      <th>14</th>\n",
       "      <td>The Game Awards 2017</td>\n",
       "      <td>The Game Awards 2017 was an award show that ho...</td>\n",
       "    </tr>\n",
       "    <tr>\n",
       "      <th>15</th>\n",
       "      <td>Hidemaro Fujibayashi</td>\n",
       "      <td>Hidemaro Fujibayashi (藤林 秀麿, Fujibayashi Hidem...</td>\n",
       "    </tr>\n",
       "    <tr>\n",
       "      <th>17</th>\n",
       "      <td>Ganon</td>\n",
       "      <td>Ganon is a fictional monster and the main anta...</td>\n",
       "    </tr>\n",
       "    <tr>\n",
       "      <th>18</th>\n",
       "      <td>Cemu</td>\n",
       "      <td>Cemu is a closed-source Wii U video game conso...</td>\n",
       "    </tr>\n",
       "    <tr>\n",
       "      <th>19</th>\n",
       "      <td>Master Sword</td>\n",
       "      <td>The Master Sword (マスターソード, Masutā Sōdo) is a f...</td>\n",
       "    </tr>\n",
       "    <tr>\n",
       "      <th>20</th>\n",
       "      <td>Open world</td>\n",
       "      <td>In video games, an open world is a game mechan...</td>\n",
       "    </tr>\n",
       "    <tr>\n",
       "      <th>21</th>\n",
       "      <td>List of The Legend of Zelda media</td>\n",
       "      <td>The Legend of Zelda is a video game series cre...</td>\n",
       "    </tr>\n",
       "    <tr>\n",
       "      <th>22</th>\n",
       "      <td>Characters of The Legend of Zelda</td>\n",
       "      <td>The Legend of Zelda is a high-fantasy video ga...</td>\n",
       "    </tr>\n",
       "    <tr>\n",
       "      <th>23</th>\n",
       "      <td>Elizabeth Maxwell</td>\n",
       "      <td>Elizabeth Maxwell is an American voice actress...</td>\n",
       "    </tr>\n",
       "    <tr>\n",
       "      <th>25</th>\n",
       "      <td>The Legend of Zelda: Breath of the Wild – Crea...</td>\n",
       "      <td>The Legend of Zelda: Breath of the Wild – Crea...</td>\n",
       "    </tr>\n",
       "    <tr>\n",
       "      <th>26</th>\n",
       "      <td>Impa</td>\n",
       "      <td>Impa is a recurring fictional character in Nin...</td>\n",
       "    </tr>\n",
       "    <tr>\n",
       "      <th>27</th>\n",
       "      <td>Patricia Summersett</td>\n",
       "      <td>Patricia Summersett (born March 15, 1982) is a...</td>\n",
       "    </tr>\n",
       "    <tr>\n",
       "      <th>28</th>\n",
       "      <td>Eiji Aonuma</td>\n",
       "      <td>Eiji Aonuma (Japanese: 青沼 英二, Hepburn: Aonuma ...</td>\n",
       "    </tr>\n",
       "  </tbody>\n",
       "</table>\n",
       "</div>"
      ],
      "text/plain": [
       "                                            doc_title  \\\n",
       "0             The Legend of Zelda: Breath of the Wild   \n",
       "1   Untitled The Legend of Zelda: Breath of the Wi...   \n",
       "2                                 The Legend of Zelda   \n",
       "3                     Universe of The Legend of Zelda   \n",
       "4                    Hyrule Warriors: Age of Calamity   \n",
       "5                                              Urbosa   \n",
       "6                     List of Game of the Year awards   \n",
       "7                                      Princess Zelda   \n",
       "8                                               Mipha   \n",
       "9                          Link (The Legend of Zelda)   \n",
       "10                                       Prince Sidon   \n",
       "11                                    Nintendo Switch   \n",
       "14                               The Game Awards 2017   \n",
       "15                               Hidemaro Fujibayashi   \n",
       "17                                              Ganon   \n",
       "18                                               Cemu   \n",
       "19                                       Master Sword   \n",
       "20                                         Open world   \n",
       "21                  List of The Legend of Zelda media   \n",
       "22                  Characters of The Legend of Zelda   \n",
       "23                                  Elizabeth Maxwell   \n",
       "25  The Legend of Zelda: Breath of the Wild – Crea...   \n",
       "26                                               Impa   \n",
       "27                                Patricia Summersett   \n",
       "28                                        Eiji Aonuma   \n",
       "\n",
       "                                             doc_text  \n",
       "0   The Legend of Zelda: Breath of the Wild is a 2...  \n",
       "1   An untitled sequel to the 2017 action-adventur...  \n",
       "2   The Legend of Zelda is a high fantasy action-a...  \n",
       "3   The Legend of Zelda is a video game franchise ...  \n",
       "4   Hyrule Warriors: Age of Calamity is a hack-and...  \n",
       "5   Urbosa is a fictional character from Nintendo'...  \n",
       "6   Game of the Year (GotY) is an award given by v...  \n",
       "7   Princess Zelda is the titular character in Nin...  \n",
       "8   Mipha is a fictional character in Nintendo's T...  \n",
       "9   Link is a fictional character and the protagon...  \n",
       "10  Prince Sidon ( SY-don) is a fictional characte...  \n",
       "11  The Nintendo Switch is a video game console de...  \n",
       "14  The Game Awards 2017 was an award show that ho...  \n",
       "15  Hidemaro Fujibayashi (藤林 秀麿, Fujibayashi Hidem...  \n",
       "17  Ganon is a fictional monster and the main anta...  \n",
       "18  Cemu is a closed-source Wii U video game conso...  \n",
       "19  The Master Sword (マスターソード, Masutā Sōdo) is a f...  \n",
       "20  In video games, an open world is a game mechan...  \n",
       "21  The Legend of Zelda is a video game series cre...  \n",
       "22  The Legend of Zelda is a high-fantasy video ga...  \n",
       "23  Elizabeth Maxwell is an American voice actress...  \n",
       "25  The Legend of Zelda: Breath of the Wild – Crea...  \n",
       "26  Impa is a recurring fictional character in Nin...  \n",
       "27  Patricia Summersett (born March 15, 1982) is a...  \n",
       "28  Eiji Aonuma (Japanese: 青沼 英二, Hepburn: Aonuma ...  "
      ]
     },
     "execution_count": 20,
     "metadata": {},
     "output_type": "execute_result"
    }
   ],
   "source": [
    "df.drop([12, 13, 16, 24, 29])"
   ]
  },
  {
   "cell_type": "code",
   "execution_count": 21,
   "id": "3242f909",
   "metadata": {},
   "outputs": [],
   "source": [
    "def clean_doc(doc): \n",
    "    #split document into individual words\n",
    "    tokens=doc.split()\n",
    "    re_punc = re.compile('[%s]' % re.escape(string.punctuation))\n",
    "    # remove punctuation from each word\n",
    "    tokens = [re_punc.sub('', w) for w in tokens]\n",
    "    # remove remaining tokens that are not alphabetic\n",
    "    tokens = [word for word in tokens if word.isalpha()]\n",
    "    # filter out short tokens\n",
    "    tokens = [word for word in tokens if len(word) > 4]\n",
    "    #lowercase all words\n",
    "    tokens = [word.lower() for word in tokens]\n",
    "    # filter out stop words\n",
    "    stop_words = stopwords.words('english')\n",
    "    stop_words = set(stop_words)\n",
    "    tokens = [w for w in tokens if not w in stop_words]         \n",
    "    # lemmatize\n",
    "    wnl = WordNetLemmatizer()\n",
    "    tokens=[wnl.lemmatize(word.lower()) for word in tokens]\n",
    "    return tokens"
   ]
  },
  {
   "cell_type": "code",
   "execution_count": 22,
   "id": "1d48c122",
   "metadata": {},
   "outputs": [],
   "source": [
    "df['tokens'] = df['doc_text'].apply(lambda x: clean_doc(x))"
   ]
  },
  {
   "cell_type": "code",
   "execution_count": 23,
   "id": "cf804d52",
   "metadata": {},
   "outputs": [
    {
     "data": {
      "text/html": [
       "<div>\n",
       "<style scoped>\n",
       "    .dataframe tbody tr th:only-of-type {\n",
       "        vertical-align: middle;\n",
       "    }\n",
       "\n",
       "    .dataframe tbody tr th {\n",
       "        vertical-align: top;\n",
       "    }\n",
       "\n",
       "    .dataframe thead th {\n",
       "        text-align: right;\n",
       "    }\n",
       "</style>\n",
       "<table border=\"1\" class=\"dataframe\">\n",
       "  <thead>\n",
       "    <tr style=\"text-align: right;\">\n",
       "      <th></th>\n",
       "      <th>doc_title</th>\n",
       "      <th>doc_text</th>\n",
       "      <th>tokens</th>\n",
       "    </tr>\n",
       "  </thead>\n",
       "  <tbody>\n",
       "    <tr>\n",
       "      <th>0</th>\n",
       "      <td>The Legend of Zelda: Breath of the Wild</td>\n",
       "      <td>The Legend of Zelda: Breath of the Wild is a 2...</td>\n",
       "      <td>[legend, zelda, breath, actionadventure, devel...</td>\n",
       "    </tr>\n",
       "    <tr>\n",
       "      <th>1</th>\n",
       "      <td>Untitled The Legend of Zelda: Breath of the Wi...</td>\n",
       "      <td>An untitled sequel to the 2017 action-adventur...</td>\n",
       "      <td>[untitled, sequel, actionadventure, legend, ze...</td>\n",
       "    </tr>\n",
       "    <tr>\n",
       "      <th>2</th>\n",
       "      <td>The Legend of Zelda</td>\n",
       "      <td>The Legend of Zelda is a high fantasy action-a...</td>\n",
       "      <td>[legend, zelda, fantasy, actionadventure, vide...</td>\n",
       "    </tr>\n",
       "    <tr>\n",
       "      <th>3</th>\n",
       "      <td>Universe of The Legend of Zelda</td>\n",
       "      <td>The Legend of Zelda is a video game franchise ...</td>\n",
       "      <td>[legend, zelda, video, franchise, created, jap...</td>\n",
       "    </tr>\n",
       "    <tr>\n",
       "      <th>4</th>\n",
       "      <td>Hyrule Warriors: Age of Calamity</td>\n",
       "      <td>Hyrule Warriors: Age of Calamity is a hack-and...</td>\n",
       "      <td>[hyrule, warrior, calamity, hackandslash, vide...</td>\n",
       "    </tr>\n",
       "  </tbody>\n",
       "</table>\n",
       "</div>"
      ],
      "text/plain": [
       "                                           doc_title  \\\n",
       "0            The Legend of Zelda: Breath of the Wild   \n",
       "1  Untitled The Legend of Zelda: Breath of the Wi...   \n",
       "2                                The Legend of Zelda   \n",
       "3                    Universe of The Legend of Zelda   \n",
       "4                   Hyrule Warriors: Age of Calamity   \n",
       "\n",
       "                                            doc_text  \\\n",
       "0  The Legend of Zelda: Breath of the Wild is a 2...   \n",
       "1  An untitled sequel to the 2017 action-adventur...   \n",
       "2  The Legend of Zelda is a high fantasy action-a...   \n",
       "3  The Legend of Zelda is a video game franchise ...   \n",
       "4  Hyrule Warriors: Age of Calamity is a hack-and...   \n",
       "\n",
       "                                              tokens  \n",
       "0  [legend, zelda, breath, actionadventure, devel...  \n",
       "1  [untitled, sequel, actionadventure, legend, ze...  \n",
       "2  [legend, zelda, fantasy, actionadventure, vide...  \n",
       "3  [legend, zelda, video, franchise, created, jap...  \n",
       "4  [hyrule, warrior, calamity, hackandslash, vide...  "
      ]
     },
     "execution_count": 23,
     "metadata": {},
     "output_type": "execute_result"
    }
   ],
   "source": [
    "df.head()"
   ]
  },
  {
   "cell_type": "code",
   "execution_count": 24,
   "id": "8143b6c5",
   "metadata": {},
   "outputs": [],
   "source": [
    "GREETING_INPUTS = (\"hello\", \"hi\", \"greetings\", \"sup\", \"what's up\",\"hey\",)\n",
    "GREETING_RESPONSES = [\"hi\", \"hey\", \"*nods*\", \"hi there\", \"hello\", \"I am glad! You are talking to me\"]\n",
    "def greeting(sentence):\n",
    " \n",
    "    for word in sentence.split():\n",
    "        if word.lower() in GREETING_INPUTS:\n",
    "            return random.choice(GREETING_RESPONSES)"
   ]
  },
  {
   "cell_type": "code",
   "execution_count": 25,
   "id": "aa08fb7e",
   "metadata": {},
   "outputs": [],
   "source": [
    "def response(user_response):\n",
    "    robo_response=''"
   ]
  },
  {
   "cell_type": "code",
   "execution_count": 26,
   "id": "c42c94f5",
   "metadata": {},
   "outputs": [],
   "source": [
    "def tfidf(corpus, titles, ngram_range):\n",
    "    #this is a function to create the tfidf matrix\n",
    "    Tfidf=TfidfVectorizer(ngram_range=(1,1))\n",
    "\n",
    "    #fit the vectorizer using final processed documents.  The vectorizer requires the \n",
    "    #stiched back together document.\n",
    "\n",
    "    TFIDF_matrix=Tfidf.fit_transform(corpus)\n",
    "    vals = cosine_similarity(TFIDF_matrix[-1], TFIDF_matrix)\n",
    "\n",
    "    #creating dataframe from TFIDF Matrix\n",
    "    words = Tfidf.get_feature_names_out()\n",
    "    matrix=pd.DataFrame(TFIDF_matrix.toarray(), columns=Tfidf.get_feature_names(), index=titles)\n",
    "    return matrix ,words, vals"
   ]
  },
  {
   "cell_type": "code",
   "execution_count": 27,
   "id": "7943afb9",
   "metadata": {},
   "outputs": [],
   "source": [
    "final_processed_text = [' '.join(x) for x in df['tokens'].tolist()]"
   ]
  },
  {
   "cell_type": "code",
   "execution_count": 28,
   "id": "db055101",
   "metadata": {},
   "outputs": [],
   "source": [
    "titles = df['doc_title'].tolist()"
   ]
  },
  {
   "cell_type": "code",
   "execution_count": 29,
   "id": "f41cab7d",
   "metadata": {
    "scrolled": true
   },
   "outputs": [
    {
     "name": "stderr",
     "output_type": "stream",
     "text": [
      "/Users/erinmcmahon/opt/anaconda3/lib/python3.8/site-packages/sklearn/utils/deprecation.py:87: FutureWarning: Function get_feature_names is deprecated; get_feature_names is deprecated in 1.0 and will be removed in 1.2. Please use get_feature_names_out instead.\n",
      "  warnings.warn(msg, category=FutureWarning)\n"
     ]
    }
   ],
   "source": [
    "tfidf_matrix, tfidf_words, tfidf_vals = tfidf(final_processed_text, titles, ngram_range = (1,1))"
   ]
  },
  {
   "cell_type": "code",
   "execution_count": 30,
   "id": "88873b18",
   "metadata": {},
   "outputs": [
    {
     "data": {
      "text/html": [
       "<div>\n",
       "<style scoped>\n",
       "    .dataframe tbody tr th:only-of-type {\n",
       "        vertical-align: middle;\n",
       "    }\n",
       "\n",
       "    .dataframe tbody tr th {\n",
       "        vertical-align: top;\n",
       "    }\n",
       "\n",
       "    .dataframe thead th {\n",
       "        text-align: right;\n",
       "    }\n",
       "</style>\n",
       "<table border=\"1\" class=\"dataframe\">\n",
       "  <thead>\n",
       "    <tr style=\"text-align: right;\">\n",
       "      <th></th>\n",
       "      <th>abandon</th>\n",
       "      <th>abandoned</th>\n",
       "      <th>abandonment</th>\n",
       "      <th>abducting</th>\n",
       "      <th>abgnac</th>\n",
       "      <th>abilitiesin</th>\n",
       "      <th>abilitiesthe</th>\n",
       "      <th>ability</th>\n",
       "      <th>aboard</th>\n",
       "      <th>aboda</th>\n",
       "      <th>...</th>\n",
       "      <th>zombie</th>\n",
       "      <th>zombielike</th>\n",
       "      <th>zombiesin</th>\n",
       "      <th>zone</th>\n",
       "      <th>zoras</th>\n",
       "      <th>ztargeting</th>\n",
       "      <th>zynga</th>\n",
       "      <th>ōhara</th>\n",
       "      <th>ōkami</th>\n",
       "      <th>マスターソード</th>\n",
       "    </tr>\n",
       "  </thead>\n",
       "  <tbody>\n",
       "    <tr>\n",
       "      <th>The Legend of Zelda: Breath of the Wild</th>\n",
       "      <td>0.0</td>\n",
       "      <td>0.0</td>\n",
       "      <td>0.0</td>\n",
       "      <td>0.0</td>\n",
       "      <td>0.0</td>\n",
       "      <td>0.0</td>\n",
       "      <td>0.0</td>\n",
       "      <td>0.029572</td>\n",
       "      <td>0.0</td>\n",
       "      <td>0.0</td>\n",
       "      <td>...</td>\n",
       "      <td>0.000000</td>\n",
       "      <td>0.000000</td>\n",
       "      <td>0.0</td>\n",
       "      <td>0.0</td>\n",
       "      <td>0.000000</td>\n",
       "      <td>0.000000</td>\n",
       "      <td>0.0</td>\n",
       "      <td>0.0</td>\n",
       "      <td>0.000000</td>\n",
       "      <td>0.0</td>\n",
       "    </tr>\n",
       "    <tr>\n",
       "      <th>Untitled The Legend of Zelda: Breath of the Wild sequel</th>\n",
       "      <td>0.0</td>\n",
       "      <td>0.0</td>\n",
       "      <td>0.0</td>\n",
       "      <td>0.0</td>\n",
       "      <td>0.0</td>\n",
       "      <td>0.0</td>\n",
       "      <td>0.0</td>\n",
       "      <td>0.000000</td>\n",
       "      <td>0.0</td>\n",
       "      <td>0.0</td>\n",
       "      <td>...</td>\n",
       "      <td>0.000000</td>\n",
       "      <td>0.000000</td>\n",
       "      <td>0.0</td>\n",
       "      <td>0.0</td>\n",
       "      <td>0.000000</td>\n",
       "      <td>0.000000</td>\n",
       "      <td>0.0</td>\n",
       "      <td>0.0</td>\n",
       "      <td>0.000000</td>\n",
       "      <td>0.0</td>\n",
       "    </tr>\n",
       "    <tr>\n",
       "      <th>The Legend of Zelda</th>\n",
       "      <td>0.0</td>\n",
       "      <td>0.0</td>\n",
       "      <td>0.0</td>\n",
       "      <td>0.0</td>\n",
       "      <td>0.0</td>\n",
       "      <td>0.0</td>\n",
       "      <td>0.0</td>\n",
       "      <td>0.013603</td>\n",
       "      <td>0.0</td>\n",
       "      <td>0.0</td>\n",
       "      <td>...</td>\n",
       "      <td>0.000000</td>\n",
       "      <td>0.000000</td>\n",
       "      <td>0.0</td>\n",
       "      <td>0.0</td>\n",
       "      <td>0.000000</td>\n",
       "      <td>0.000000</td>\n",
       "      <td>0.0</td>\n",
       "      <td>0.0</td>\n",
       "      <td>0.008845</td>\n",
       "      <td>0.0</td>\n",
       "    </tr>\n",
       "    <tr>\n",
       "      <th>Universe of The Legend of Zelda</th>\n",
       "      <td>0.0</td>\n",
       "      <td>0.0</td>\n",
       "      <td>0.0</td>\n",
       "      <td>0.0</td>\n",
       "      <td>0.0</td>\n",
       "      <td>0.0</td>\n",
       "      <td>0.0</td>\n",
       "      <td>0.017015</td>\n",
       "      <td>0.0</td>\n",
       "      <td>0.0</td>\n",
       "      <td>...</td>\n",
       "      <td>0.017702</td>\n",
       "      <td>0.008851</td>\n",
       "      <td>0.0</td>\n",
       "      <td>0.0</td>\n",
       "      <td>0.012503</td>\n",
       "      <td>0.008851</td>\n",
       "      <td>0.0</td>\n",
       "      <td>0.0</td>\n",
       "      <td>0.000000</td>\n",
       "      <td>0.0</td>\n",
       "    </tr>\n",
       "    <tr>\n",
       "      <th>Hyrule Warriors: Age of Calamity</th>\n",
       "      <td>0.0</td>\n",
       "      <td>0.0</td>\n",
       "      <td>0.0</td>\n",
       "      <td>0.0</td>\n",
       "      <td>0.0</td>\n",
       "      <td>0.0</td>\n",
       "      <td>0.0</td>\n",
       "      <td>0.000000</td>\n",
       "      <td>0.0</td>\n",
       "      <td>0.0</td>\n",
       "      <td>...</td>\n",
       "      <td>0.000000</td>\n",
       "      <td>0.000000</td>\n",
       "      <td>0.0</td>\n",
       "      <td>0.0</td>\n",
       "      <td>0.000000</td>\n",
       "      <td>0.000000</td>\n",
       "      <td>0.0</td>\n",
       "      <td>0.0</td>\n",
       "      <td>0.000000</td>\n",
       "      <td>0.0</td>\n",
       "    </tr>\n",
       "  </tbody>\n",
       "</table>\n",
       "<p>5 rows × 8482 columns</p>\n",
       "</div>"
      ],
      "text/plain": [
       "                                                    abandon  abandoned  \\\n",
       "The Legend of Zelda: Breath of the Wild                 0.0        0.0   \n",
       "Untitled The Legend of Zelda: Breath of the Wil...      0.0        0.0   \n",
       "The Legend of Zelda                                     0.0        0.0   \n",
       "Universe of The Legend of Zelda                         0.0        0.0   \n",
       "Hyrule Warriors: Age of Calamity                        0.0        0.0   \n",
       "\n",
       "                                                    abandonment  abducting  \\\n",
       "The Legend of Zelda: Breath of the Wild                     0.0        0.0   \n",
       "Untitled The Legend of Zelda: Breath of the Wil...          0.0        0.0   \n",
       "The Legend of Zelda                                         0.0        0.0   \n",
       "Universe of The Legend of Zelda                             0.0        0.0   \n",
       "Hyrule Warriors: Age of Calamity                            0.0        0.0   \n",
       "\n",
       "                                                    abgnac  abilitiesin  \\\n",
       "The Legend of Zelda: Breath of the Wild                0.0          0.0   \n",
       "Untitled The Legend of Zelda: Breath of the Wil...     0.0          0.0   \n",
       "The Legend of Zelda                                    0.0          0.0   \n",
       "Universe of The Legend of Zelda                        0.0          0.0   \n",
       "Hyrule Warriors: Age of Calamity                       0.0          0.0   \n",
       "\n",
       "                                                    abilitiesthe   ability  \\\n",
       "The Legend of Zelda: Breath of the Wild                      0.0  0.029572   \n",
       "Untitled The Legend of Zelda: Breath of the Wil...           0.0  0.000000   \n",
       "The Legend of Zelda                                          0.0  0.013603   \n",
       "Universe of The Legend of Zelda                              0.0  0.017015   \n",
       "Hyrule Warriors: Age of Calamity                             0.0  0.000000   \n",
       "\n",
       "                                                    aboard  aboda  ...  \\\n",
       "The Legend of Zelda: Breath of the Wild                0.0    0.0  ...   \n",
       "Untitled The Legend of Zelda: Breath of the Wil...     0.0    0.0  ...   \n",
       "The Legend of Zelda                                    0.0    0.0  ...   \n",
       "Universe of The Legend of Zelda                        0.0    0.0  ...   \n",
       "Hyrule Warriors: Age of Calamity                       0.0    0.0  ...   \n",
       "\n",
       "                                                      zombie  zombielike  \\\n",
       "The Legend of Zelda: Breath of the Wild             0.000000    0.000000   \n",
       "Untitled The Legend of Zelda: Breath of the Wil...  0.000000    0.000000   \n",
       "The Legend of Zelda                                 0.000000    0.000000   \n",
       "Universe of The Legend of Zelda                     0.017702    0.008851   \n",
       "Hyrule Warriors: Age of Calamity                    0.000000    0.000000   \n",
       "\n",
       "                                                    zombiesin  zone     zoras  \\\n",
       "The Legend of Zelda: Breath of the Wild                   0.0   0.0  0.000000   \n",
       "Untitled The Legend of Zelda: Breath of the Wil...        0.0   0.0  0.000000   \n",
       "The Legend of Zelda                                       0.0   0.0  0.000000   \n",
       "Universe of The Legend of Zelda                           0.0   0.0  0.012503   \n",
       "Hyrule Warriors: Age of Calamity                          0.0   0.0  0.000000   \n",
       "\n",
       "                                                    ztargeting  zynga  ōhara  \\\n",
       "The Legend of Zelda: Breath of the Wild               0.000000    0.0    0.0   \n",
       "Untitled The Legend of Zelda: Breath of the Wil...    0.000000    0.0    0.0   \n",
       "The Legend of Zelda                                   0.000000    0.0    0.0   \n",
       "Universe of The Legend of Zelda                       0.008851    0.0    0.0   \n",
       "Hyrule Warriors: Age of Calamity                      0.000000    0.0    0.0   \n",
       "\n",
       "                                                       ōkami  マスターソード  \n",
       "The Legend of Zelda: Breath of the Wild             0.000000      0.0  \n",
       "Untitled The Legend of Zelda: Breath of the Wil...  0.000000      0.0  \n",
       "The Legend of Zelda                                 0.008845      0.0  \n",
       "Universe of The Legend of Zelda                     0.000000      0.0  \n",
       "Hyrule Warriors: Age of Calamity                    0.000000      0.0  \n",
       "\n",
       "[5 rows x 8482 columns]"
      ]
     },
     "execution_count": 30,
     "metadata": {},
     "output_type": "execute_result"
    }
   ],
   "source": [
    "tfidf_matrix.head()"
   ]
  },
  {
   "cell_type": "code",
   "execution_count": 31,
   "id": "a3bd9212",
   "metadata": {},
   "outputs": [],
   "source": [
    "idx=tfidf_vals.argsort()[0][-2]\n",
    "flat = tfidf_vals.flatten()\n",
    "flat.sort()\n",
    "req_tfidf = flat[-2]"
   ]
  },
  {
   "cell_type": "code",
   "execution_count": 32,
   "id": "293f807f",
   "metadata": {},
   "outputs": [],
   "source": [
    "def response(user_response):\n",
    "    robo_response=''"
   ]
  },
  {
   "cell_type": "code",
   "execution_count": 33,
   "id": "e45c3c83",
   "metadata": {},
   "outputs": [],
   "source": [
    "def response(user_response):\n",
    "    robo_response=''\n",
    "    if req_tfidf==0:\n",
    "        robo_response=robo_response+\"I am sorry! I don't understand you\"\n",
    "        return robo_response\n",
    "    else:\n",
    "        robo_response = robo_response+sent_tokens[idx]\n",
    "        return robo_response"
   ]
  },
  {
   "cell_type": "code",
   "execution_count": 34,
   "id": "017b44f8",
   "metadata": {},
   "outputs": [
    {
     "name": "stdout",
     "output_type": "stream",
     "text": [
      "ROBO: My name is Robo. I will answer your queries about Chatbots. If you want to exit, type Bye!\n",
      "hello\n",
      "ROBO: *nods*\n",
      "who is link?\n",
      "ROBO: the player controls an amnesiac link, who awakens from a hundred-year slumber, and attempts to regain his memories and prevent the destruction of hyrule by calamity ganon.\\nsimilar to the original 1986 the legend of zelda game, players are given little instruction and can explore the open world freely.\n",
      "what is breath of the wild?\n",
      "ROBO: the player controls an amnesiac link, who awakens from a hundred-year slumber, and attempts to regain his memories and prevent the destruction of hyrule by calamity ganon.\\nsimilar to the original 1986 the legend of zelda game, players are given little instruction and can explore the open world freely.\n",
      "impa?\n",
      "ROBO: the player controls an amnesiac link, who awakens from a hundred-year slumber, and attempts to regain his memories and prevent the destruction of hyrule by calamity ganon.\\nsimilar to the original 1986 the legend of zelda game, players are given little instruction and can explore the open world freely.\n",
      "bye\n",
      "ROBO: Bye! take care..\n"
     ]
    }
   ],
   "source": [
    "flag=True\n",
    "print(\"ROBO: My name is Robo. I will answer your queries about Chatbots. If you want to exit, type Bye!\")\n",
    "while(flag==True):\n",
    "    user_response = input()\n",
    "    user_response=user_response.lower()\n",
    "    if(user_response!='bye'):\n",
    "        if(user_response=='thanks' or user_response=='thank you' ):\n",
    "            flag=False\n",
    "            print(\"ROBO: You are welcome..\")\n",
    "        else:\n",
    "            if(greeting(user_response)!=None):\n",
    "                print(\"ROBO: \"+greeting(user_response))\n",
    "            else:\n",
    "                sent_tokens.append(user_response)\n",
    "                word_tokens=word_tokens+nltk.word_tokenize(user_response)\n",
    "                final_words=list(set(word_tokens))\n",
    "                print(\"ROBO: \",end=\"\")\n",
    "                print(response(user_response))\n",
    "                sent_tokens.remove(user_response)\n",
    "    else:\n",
    "        flag=False\n",
    "        print(\"ROBO: Bye! take care..\")"
   ]
  },
  {
   "cell_type": "code",
   "execution_count": null,
   "id": "12d12e23",
   "metadata": {},
   "outputs": [],
   "source": []
  }
 ],
 "metadata": {
  "kernelspec": {
   "display_name": "Python 3",
   "language": "python",
   "name": "python3"
  },
  "language_info": {
   "codemirror_mode": {
    "name": "ipython",
    "version": 3
   },
   "file_extension": ".py",
   "mimetype": "text/x-python",
   "name": "python",
   "nbconvert_exporter": "python",
   "pygments_lexer": "ipython3",
   "version": "3.8.8"
  }
 },
 "nbformat": 4,
 "nbformat_minor": 5
}
